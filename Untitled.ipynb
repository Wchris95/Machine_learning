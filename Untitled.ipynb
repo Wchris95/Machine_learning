{
 "cells": [
  {
   "cell_type": "code",
   "execution_count": 3,
   "id": "dd72bedd",
   "metadata": {},
   "outputs": [],
   "source": [
    "import numpy as np\n",
    "\n",
    "dataset = np.array([[0,0],[2,0],[1,1],[0,2],[3,3],[4,1],[5,2],[1,4],[4,4],[5,5]])"
   ]
  },
  {
   "cell_type": "code",
   "execution_count": 4,
   "id": "fbe4b655",
   "metadata": {},
   "outputs": [
    {
     "name": "stdout",
     "output_type": "stream",
     "text": [
      "[[0 0]\n",
      " [2 0]\n",
      " [1 1]\n",
      " [0 2]\n",
      " [3 3]\n",
      " [4 1]\n",
      " [5 2]\n",
      " [1 4]\n",
      " [4 4]\n",
      " [5 5]]\n"
     ]
    }
   ],
   "source": [
    "print(dataset)"
   ]
  },
  {
   "cell_type": "code",
   "execution_count": 5,
   "id": "852d682b",
   "metadata": {},
   "outputs": [],
   "source": [
    "#[x1^2, sqrt2*x1*x2,x2^2]tranposed\n",
    "kernel = lambda x:np.array([x[0]**2,np.sqrt(2)*x[0]*x[1],x[1]**2])"
   ]
  },
  {
   "cell_type": "code",
   "execution_count": 7,
   "id": "df45d278",
   "metadata": {},
   "outputs": [],
   "source": [
    "transformed_data=[]\n",
    "for x in map(kernel,dataset):\n",
    "    transformed_data.append(x)\n",
    "transformed_data = np.array(transformed_data)\n",
    "transformed_data = np.hstack([np.ones(dataset.shape[0]).reshape(dataset.shape[0],1),transformed_data])"
   ]
  },
  {
   "cell_type": "code",
   "execution_count": 8,
   "id": "b9d04a47",
   "metadata": {},
   "outputs": [
    {
     "name": "stdout",
     "output_type": "stream",
     "text": [
      "[[ 1.          0.          0.          0.        ]\n",
      " [ 1.          4.          0.          0.        ]\n",
      " [ 1.          1.          1.41421356  1.        ]\n",
      " [ 1.          0.          0.          4.        ]\n",
      " [ 1.          9.         12.72792206  9.        ]\n",
      " [ 1.         16.          5.65685425  1.        ]\n",
      " [ 1.         25.         14.14213562  4.        ]\n",
      " [ 1.          1.          5.65685425 16.        ]\n",
      " [ 1.         16.         22.627417   16.        ]\n",
      " [ 1.         25.         35.35533906 25.        ]]\n"
     ]
    }
   ],
   "source": [
    "print(transformed_data)"
   ]
  },
  {
   "cell_type": "code",
   "execution_count": 9,
   "id": "1f4060fb",
   "metadata": {},
   "outputs": [],
   "source": [
    "para_vect = np.zeros(4)\n",
    "mistakes = [1,65,11,31,72,30,0,21,4,15]\n",
    "label = [-1,-1,-1,-1,-1,1,1,1,1,1]"
   ]
  },
  {
   "cell_type": "code",
   "execution_count": 16,
   "id": "467e51a9",
   "metadata": {},
   "outputs": [
    {
     "name": "stdout",
     "output_type": "stream",
     "text": [
      "Theta0: -110.0\n",
      "\n",
      "Theta: [ 21.       -22.627417  22.      ]\n"
     ]
    }
   ],
   "source": [
    "weight=0\n",
    "for i in range(dataset.shape[0]):\n",
    "    weight = weight+mistakes[i]*label[i]*transformed_data[i]\n",
    "theta0=weight[0]\n",
    "print(f\"Theta0: {theta0}\\n\")\n",
    "theta=weight[1:]\n",
    "print(f\"Theta: {theta}\")"
   ]
  }
 ],
 "metadata": {
  "kernelspec": {
   "display_name": "Python 3 (ipykernel)",
   "language": "python",
   "name": "python3"
  },
  "language_info": {
   "codemirror_mode": {
    "name": "ipython",
    "version": 3
   },
   "file_extension": ".py",
   "mimetype": "text/x-python",
   "name": "python",
   "nbconvert_exporter": "python",
   "pygments_lexer": "ipython3",
   "version": "3.7.11"
  }
 },
 "nbformat": 4,
 "nbformat_minor": 5
}
